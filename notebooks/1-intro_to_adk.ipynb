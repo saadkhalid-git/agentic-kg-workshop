{
 "cells": [
  {
   "cell_type": "markdown",
   "metadata": {
    "id": "Np0plMPXRvoq"
   },
   "source": [
    "# Lesson 1 - Brief Intro to Google ADK\n",
    "\n",
    "This notebook shows a quick intro to Google ADK.\n",
    "\n",
    "General steps:\n",
    "1. Setup environment (use local .env and .venv)\n",
    "2. Check that environment is working (including connection to Neo4j)\n",
    "3. Define tool(s)\n",
    "4. Define agent(s)\n",
    "5. Demonstrate interaction"
   ]
  },
  {
   "cell_type": "markdown",
   "metadata": {},
   "source": [
    "## Setup"
   ]
  },
  {
   "cell_type": "markdown",
   "metadata": {},
   "source": [
    "### script - import libraries\n",
    "\n",
    "- start with the usual library imports\n",
    "- for this course, you'll be using Google's Agent Development Kit (ADK)\n",
    "- there's also a special helper called `neo4j_for_adk` which wraps the Neo4j Python driver to make it ADK friendly"
   ]
  },
  {
   "cell_type": "code",
   "execution_count": 1,
   "metadata": {
    "id": "sbwxKypOSBkN"
   },
   "outputs": [
    {
     "name": "stdout",
     "output_type": "stream",
     "text": [
      "Libraries imported.\n"
     ]
    }
   ],
   "source": [
    "# Import necessary libraries\n",
    "import os\n",
    "from google.adk.agents import Agent\n",
    "from google.adk.models.lite_llm import LiteLlm # For OpenAI support\n",
    "from google.adk.sessions import InMemorySessionService\n",
    "from google.adk.runners import Runner\n",
    "from google.genai import types # For creating message Content/Parts\n",
    "from typing import Optional, Dict, Any\n",
    "\n",
    "# Convenience libraries for working with Neo4j inside of Google ADK\n",
    "from neo4j_for_adk import graphdb\n",
    "\n",
    "import warnings\n",
    "# Ignore all warnings\n",
    "warnings.filterwarnings(\"ignore\")\n",
    "\n",
    "import logging\n",
    "logging.basicConfig(level=logging.CRITICAL)\n",
    "\n",
    "print(\"Libraries imported.\")"
   ]
  },
  {
   "cell_type": "markdown",
   "metadata": {},
   "source": [
    "### Script - prepare OpenAI\n",
    "\n",
    "- define model to use -- openai/gpt-4o\n",
    "- create a LiteLlm client to use that model\n",
    "- try it out with a simple completion\n",
    "\n"
   ]
  },
  {
   "cell_type": "code",
   "execution_count": null,
   "metadata": {
    "id": "MI_qvZJrSJuR"
   },
   "outputs": [
    {
     "name": "stdout",
     "output_type": "stream",
     "text": [
      "ModelResponse(id='chatcmpl-CNq8Th7H56L8BDIwMv7Fgl5fH4R8W', created=1759797989, model='gpt-5-2025-08-07', object='chat.completion', system_fingerprint=None, choices=[Choices(finish_reason='stop', index=0, message=Message(content='Yes—ready when you are. How can I help today?', role='assistant', tool_calls=None, function_call=None, provider_specific_fields={'refusal': None}, annotations=[]), provider_specific_fields={})], usage=Usage(completion_tokens=22, prompt_tokens=107, total_tokens=129, completion_tokens_details=CompletionTokensDetailsWrapper(accepted_prediction_tokens=0, audio_tokens=0, reasoning_tokens=0, rejected_prediction_tokens=0, text_tokens=None), prompt_tokens_details=PromptTokensDetailsWrapper(audio_tokens=0, cached_tokens=0, text_tokens=None, image_tokens=None)), service_tier='default')\n",
      "\n",
      "OpenAI is ready for use.\n"
     ]
    }
   ],
   "source": [
    "# --- Define Model Constants for easier use ---\n",
    "MODEL_GPT_5 = \"openai/gpt-5\"\n",
    "\n",
    "llm = LiteLlm(model=MODEL_GPT_5)\n",
    "\n",
    "# Test LLM with a direct call\n",
    "print(llm.llm_client.completion(model=llm.model, messages=[{\"role\": \"user\", \"content\": \"Are you ready?\"}], tools=[]))\n",
    "\n",
    "print(\"\\nOpenAI is ready for use.\")"
   ]
  },
  {
   "cell_type": "markdown",
   "metadata": {},
   "source": [
    "### script - check the connection to Neo4j\n",
    "\n",
    "- you'll also check that Neo4j is ready\n",
    "- the `graphdb` variable is a singleton exported from `neo4j_for_adk.py` \n",
    "- this is the simplest database query we can run, just returning a value"
   ]
  },
  {
   "cell_type": "code",
   "execution_count": null,
   "metadata": {},
   "outputs": [],
   "source": [
    "# Check connection to Neo4j by sending a query\n",
    "\n",
    "neo4j_is_ready = graphdb.send_query(\"RETURN 'Neo4j is Ready!' as message\")\n",
    "\n",
    "print(neo4j_is_ready)"
   ]
  },
  {
   "cell_type": "markdown",
   "metadata": {},
   "source": [
    "### script - define a tool\n",
    "\n",
    "tool definition:\n",
    "- agents can use tools to perform actions\n",
    "- you need to implement the action as a function\n",
    "- then document the purpose of the function in a docstring\n",
    "\n",
    "say hello tool::\n",
    "- `say_hello` is a simple tool for formatting a greeting \n",
    "- it takes a `person_name` argument\n",
    "- rather than directly formatting the greeting, we'll send that to Neo4j as a query parameter\n",
    "- notice the `$` in the `RETURN` clause of the cypher query. that indicates a query parameter\n",
    "- the second argument to `send_query` is a dictionary of parameters\n",
    "- important to note that using a query parameters avoids injection attacks. \n",
    "- the `person_name` is a variable with a value. it is not a template placeholder. it never gets parsed.\n"
   ]
  },
  {
   "cell_type": "code",
   "execution_count": null,
   "metadata": {
    "id": "ILy7YTCbSRAT"
   },
   "outputs": [],
   "source": [
    "# Define a basic tool -- send a parameterized cypher query\n",
    "def say_hello(person_name: str) -> dict:\n",
    "    \"\"\"Formats a welcome message to a named person. \n",
    "\n",
    "    Args:\n",
    "        person_name (str): the name of the person saying hello\n",
    "\n",
    "    Returns:\n",
    "        dict: A dictionary containing the results of the query.\n",
    "              Includes a 'status' key ('success' or 'error').\n",
    "              If 'success', includes a 'query_result' key with an array of result rows.\n",
    "              If 'error', includes an 'error_message' key.\n",
    "    \"\"\"\n",
    "    return graphdb.send_query(\"RETURN 'Hello to you, ' + $person_name AS reply\",\n",
    "    {\n",
    "        \"person_name\": person_name\n",
    "    })\n"
   ]
  },
  {
   "cell_type": "markdown",
   "metadata": {},
   "source": [
    "### script - try the tool\n",
    "\n",
    "- since this is a simple function returning a string you can call it directly\n",
    "- try it out"
   ]
  },
  {
   "cell_type": "code",
   "execution_count": null,
   "metadata": {},
   "outputs": [],
   "source": [
    "\n",
    "# Example tool usage (optional test)\n",
    "print(say_hello(\"ABK\"))\n"
   ]
  },
  {
   "cell_type": "markdown",
   "metadata": {},
   "source": [
    "### script - no injection attack\n",
    "\n",
    "- remember that the function sends a query to Neo4j using a query parameter\n",
    "- you can attempt to inject a malicious query to demonstrate that this function is safe"
   ]
  },
  {
   "cell_type": "code",
   "execution_count": null,
   "metadata": {},
   "outputs": [],
   "source": [
    "\n",
    "# Example tool usage (optional test)\n",
    "print(say_hello(\"RETURN 'injection attack avoided'\"))\n"
   ]
  },
  {
   "cell_type": "markdown",
   "metadata": {
    "id": "hAM0BqGWSTo5"
   },
   "source": [
    "---\n",
    "\n",
    "### script - define an Agent, the `hello_agent`\n",
    "\n",
    "- an `Agent` in Google ADK orchestrates the interaction between the user, the LLM, and the available tools\n",
    "\n",
    "- you configure it with several key parameters:\n",
    "    * `name`: A unique identifier for this agent (e.g., \"friendly_cypher_agent\\_v1\").  \n",
    "    * `model`: Specifies which LLM to use. you'll use the `llm` variable we defined above.  \n",
    "    * `description`: A summary of the agent's overall purpose. This is like public documentation that helps other agents decide when to delegate tasks to *this* agent.  \n",
    "    * `instruction`: Detailed guidance given to the LLM on how this agent should behave, its persona, goals, and specifically *how and when* to utilize its assigned `tools`.  \n",
    "    * `tools`: A list containing the actual Python tool functions the agent is allowed to use (e.g., `[say_hello]`).\n",
    "\n",
    "**Best Practice:** Provide clear and specific `instruction` prompts. The more detailed the instructions, the better the LLM can understand its role and how to use its tools effectively. Be explicit about error handling if needed.\n",
    "\n",
    "**Best Practice:** Choose descriptive `name` and `description` values. These are used internally by ADK and are vital for features like automatic delegation (covered later)."
   ]
  },
  {
   "cell_type": "code",
   "execution_count": null,
   "metadata": {
    "id": "6Ho1COmKSUeV"
   },
   "outputs": [],
   "source": [
    "# Define the Cypher Agent\n",
    "\n",
    "hello_agent = Agent(\n",
    "    name=\"hello_agent_v1\",\n",
    "    model=llm, # defined earlier in a variable\n",
    "    description=\"Has friendly chats with a user.\",\n",
    "    instruction=\"\"\"You are a helpful assistant, chatting with a user. \n",
    "                Be polite and friendly, introducing yourself and asking who the user is. \n",
    "\n",
    "                If the user provides their name, use the 'say_hello' tool to get a custom greeting.\n",
    "                If the tool returns an error, inform the user politely. \n",
    "                If the tool is successful, present the reply.\n",
    "                \"\"\",\n",
    "    tools=[say_hello], # Pass the function directly\n",
    ")\n",
    "\n",
    "print(f\"Agent '{hello_agent.name}' created.\")"
   ]
  },
  {
   "cell_type": "markdown",
   "metadata": {
    "id": "Dvz7LDhbSZxL"
   },
   "source": [
    "---\n",
    "\n",
    "### Script - Set up AgentCaller\n",
    "\n",
    "To run an agent, you'll need some additional components which we'll wrap in helpers.\n",
    "\n",
    "An agent needs an execution environment and memory. We'll define those in the next step.\n",
    "\n",
    "This `AgentCaller` class is a helper that makes it easier to make repeated calls to the\n",
    "agent by assuming we have a single user talking to the agent in a single session.\n",
    "\n",
    "Internally, here's what's happening in the `call` function:\n",
    "\n",
    "1. Takes a user query string.  \n",
    "2. Packages it into the ADK `Content` format.  \n",
    "3. Calls `runner.run_async`, providing the user/session context and the new message.  \n",
    "4. Iterates through the **Events** yielded by the runner. Events represent steps in the agent's execution (e.g., tool call requested, tool result received, intermediate LLM thought, final response).  \n",
    "5. Identifies and prints the **final response** event using `event.is_final_response()`.\n",
    "\n",
    "**Why `async`?** Interactions with LLMs and potentially tools (like external APIs) are I/O-bound operations. Using `asyncio` allows the program to handle these operations efficiently without blocking execution."
   ]
  },
  {
   "cell_type": "code",
   "execution_count": null,
   "metadata": {
    "id": "h30dNtqMSah5"
   },
   "outputs": [],
   "source": [
    "class AgentCaller:\n",
    "    \"\"\"A simple wrapper class for interacting with an ADK agent.\"\"\"\n",
    "    \n",
    "    def __init__(self, agent: Agent, runner: Runner, user_id: str, session_id: str):\n",
    "        \"\"\"Initialize the AgentCaller with required components.\"\"\"\n",
    "        self.agent = agent\n",
    "        self.runner = runner\n",
    "        self.user_id = user_id\n",
    "        self.session_id = session_id\n",
    "\n",
    "\n",
    "    def get_session(self):\n",
    "        return self.runner.session_service.get_session(app_name=self.runner.app_name, user_id=self.user_id, session_id=self.session_id)\n",
    "\n",
    "    \n",
    "    async def call(self, user_message: str, verbose: bool = False):\n",
    "        \"\"\"Call the agent with a query and return the response.\"\"\"\n",
    "        print(f\"\\n>>> User Message: {user_message}\")\n",
    "\n",
    "        # Prepare the user's message in ADK format\n",
    "        content = types.Content(role='user', parts=[types.Part(text=user_message)])\n",
    "\n",
    "        final_response_text = \"Agent did not produce a final response.\" # Default will be replaced if the agent produces a final response.\n",
    "\n",
    "        # Key Concept: run_async executes the agent logic and yields Events.\n",
    "        # We iterate through events to find the final answer.\n",
    "        async for event in self.runner.run_async(user_id=self.user_id, session_id=self.session_id, new_message=content):\n",
    "            # You can uncomment the line below to see *all* events during execution\n",
    "            if verbose:\n",
    "                print(f\"  [Event] Author: {event.author}, Type: {type(event).__name__}, Final: {event.is_final_response()}, Content: {event.content}\")\n",
    "\n",
    "            # Key Concept: is_final_response() marks the concluding message for the turn.\n",
    "            if event.is_final_response():\n",
    "                if event.content and event.content.parts:\n",
    "                    # Assuming text response in the first part\n",
    "                    final_response_text = event.content.parts[0].text\n",
    "                elif event.actions and event.actions.escalate: # Handle potential errors/escalations\n",
    "                    final_response_text = f\"Agent escalated: {event.error_message or 'No specific message.'}\"\n",
    "                break # Stop processing events once the final response is found\n",
    "\n",
    "        print(f\"<<< Agent Response: {final_response_text}\")\n",
    "        return final_response_text\n"
   ]
  },
  {
   "cell_type": "markdown",
   "metadata": {},
   "source": [
    "### script - make an instance of the AgentCaller\n",
    "\n",
    "Rather than a class constructor, you'll use a factory method which needs to make some async calls to initialize the components.\n",
    "\n",
    "The factory method takes some parameters:\n",
    "\n",
    "* `Agent`: the agent that we defined earlier\n",
    "* `initial_state`: optional initialization of the agent's \"memory\"\n",
    "\n",
    "Inside, the method will create memory for the agent and a runner.\n",
    "\n",
    "* `SessionService`: Responsible for managing conversation history and state for different users and sessions. The `InMemorySessionService` is a simple implementation that stores everything in memory, suitable for testing and simple applications. It keeps track of the messages exchanged.  \n",
    "* `Runner`: The engine that orchestrates the interaction flow. It takes user input, routes it to the appropriate agent, manages calls to the LLM and tools based on the agent's logic, handles session updates via the `SessionService`, and yields events representing the progress of the interaction.\n"
   ]
  },
  {
   "cell_type": "code",
   "execution_count": null,
   "metadata": {},
   "outputs": [],
   "source": [
    "\n",
    "async def make_agent_caller(agent: Agent, initial_state: Optional[Dict[str, Any]] = {}) -> AgentCaller:\n",
    "    \"\"\"Create and return an AgentCaller instance for the given agent.\"\"\"\n",
    "    app_name = agent.name + \"_app\"\n",
    "    user_id = agent.name + \"_user\"\n",
    "    session_id = agent.name + \"_session_01\"\n",
    "    \n",
    "    # Initialize a session service and a session\n",
    "    session_service = InMemorySessionService()\n",
    "    await session_service.create_session(\n",
    "        app_name=app_name,\n",
    "        user_id=user_id,\n",
    "        session_id=session_id,\n",
    "        state=initial_state\n",
    "    )\n",
    "    \n",
    "    runner = Runner(\n",
    "        agent=agent,\n",
    "        app_name=app_name,\n",
    "        session_service=session_service\n",
    "    )\n",
    "    \n",
    "    return AgentCaller(agent, runner, user_id, session_id)\n",
    "\n",
    "\n"
   ]
  },
  {
   "cell_type": "markdown",
   "metadata": {
    "id": "Z6DQSqrqk5ic"
   },
   "source": [
    "---\n",
    "\n",
    "### Script - Run the Conversation\n",
    "\n",
    "Now you can define an async function to run the conversation.\n",
    "\n",
    "Watch the output:\n",
    "\n",
    "* See the user messages.  \n",
    "* Notice the agent responses.\n",
    "* Observe the agent's final responses, including how it handles the case when a user name is not provided."
   ]
  },
  {
   "cell_type": "code",
   "execution_count": null,
   "metadata": {
    "id": "mEd2QhHyUKY8"
   },
   "outputs": [],
   "source": [
    "hello_agent_caller = await make_agent_caller(hello_agent)\n",
    "\n",
    "# We need an async function to await our interaction helper\n",
    "async def run_conversation():\n",
    "    await hello_agent_caller.call(\"Hello I'm ABK\")\n",
    "\n",
    "    await hello_agent_caller.call(\"I am excited\")\n",
    "\n",
    "# Execute the conversation using await\n",
    "await run_conversation()"
   ]
  },
  {
   "cell_type": "markdown",
   "metadata": {
    "id": "xbUzAGvsmB2a"
   },
   "source": [
    "---\n",
    "\n",
    "Congratulations\\! You've successfully built and interacted with your first ADK agent. It understands the user's request, uses a tool to find information, and responds appropriately based on the tool's result.\n",
    "\n",
    "Next, we'll build a simple multi-agent system."
   ]
  },
  {
   "cell_type": "markdown",
   "metadata": {
    "id": "tL5estZ_VKki"
   },
   "source": [
    "## A Simple Multi-Agent Team \\- Delegation for Greetings & Farewells\n",
    "\n",
    "Using multiple agents is a common pattern in real-world applications. It allows for better modularity, specialization, and scalability. \n",
    "\n",
    "Here's how it works:\n",
    "\n",
    "1. Creating multiple, **specialized agents**, each designed for a specific capability \n",
    "    - you'll create one agent in charge of handling greetings\n",
    "    - then another used to handle farewells\n",
    "2. Designating a **root agent** (or orchestrator or coordinator) that receives the initial user request.  \n",
    "3. Enabling the root agent to **delegate** the request to the most appropriate specialized sub-agent based on the user's intent.\n",
    "\n",
    "**Why build an Agent Team?**\n",
    "\n",
    "* **Modularity:** Easier to develop, test, and maintain individual agents.  \n",
    "* **Specialization:** Each agent can be fine-tuned (instructions, model choice) for its specific task.  \n",
    "* **Scalability:** Simpler to add new capabilities by adding new agents.  \n",
    "* **Efficiency:** Allows using potentially simpler/cheaper models for simpler tasks (like greetings).\n",
    "\n",
    "**To illustrate this, you will:**\n",
    "\n",
    "1. Define another simple tool that will handle farewells (`say_goodbye`).  \n",
    "2. Create two new specialized sub-agents: `greeting_agent` and `farewell_agent`.  \n",
    "3. Create a new top-level agent (`cypher_agent_team`) to act as the **root agent**.  \n",
    "4. Configure the root agent with its sub-agents, enabling **automatic delegation**.  \n",
    "5. Test the delegation flow by sending different types of requests to the root agent."
   ]
  },
  {
   "cell_type": "markdown",
   "metadata": {
    "id": "tLpXYXxppB4S"
   },
   "source": [
    "---\n",
    "\n",
    "**1\\. Define a new tool**\n",
    "\n",
    "First, let's create the simple Python functions that will serve as tools for our new specialist agents. Remember, clear docstrings are vital for the agents that will use them."
   ]
  },
  {
   "cell_type": "code",
   "execution_count": null,
   "metadata": {
    "id": "Qc7dHr4ZVM6X"
   },
   "outputs": [],
   "source": [
    "# Define the new goodbye tool\n",
    "\n",
    "def say_goodbye() -> dict:\n",
    "    \"\"\"Provides a simple farewell message to conclude the conversation.\"\"\"\n",
    "    return graphdb.send_query(\"RETURN 'Goodbye from Cypher!' as farewell\")\n"
   ]
  },
  {
   "cell_type": "code",
   "execution_count": null,
   "metadata": {},
   "outputs": [],
   "source": [
    "\n",
    "# Try it out\n",
    "print(say_goodbye())"
   ]
  },
  {
   "cell_type": "markdown",
   "metadata": {
    "id": "lkv34_tMVPG3"
   },
   "source": [
    "---\n",
    "\n",
    "**2\\. Define the Sub-Agents (Greeting & Farewell)**\n",
    "\n",
    "Now, create the `Agent` instances for our specialists. Notice their highly focused `instruction` and, critically, their clear `description`. The `description` is the primary information the *root agent* uses to decide *when* to delegate to these sub-agents.\n",
    "\n",
    "**Best Practice:** Sub-agent `description` fields should accurately and concisely summarize their specific capability. This is crucial for effective automatic delegation.\n",
    "\n",
    "**Best Practice:** Sub-agent `instruction` fields should be tailored to their limited scope, telling them exactly what to do and *what not* to do (e.g., \"Your *only* task is...\")."
   ]
  },
  {
   "cell_type": "code",
   "execution_count": null,
   "metadata": {},
   "outputs": [],
   "source": [
    "# --- Greeting Agent ---\n",
    "\n",
    "# Like the `hello_agent` from before, but now expected to be used as a sub-agent.\n",
    "# Should do _nothing_ other than generate greetings using the `say_hello` tool.\n",
    "greeting_subagent = Agent(\n",
    "    model=llm,\n",
    "    name=\"greeting_subagent_v1\",\n",
    "    instruction=\"You are the Greeting Agent. Your ONLY task is to provide a friendly greeting to the user. \"\n",
    "                \"Use the 'say_hello' tool to generate the greeting. \"\n",
    "                \"If the user provides their name, make sure to pass it to the tool. \"\n",
    "                \"Do not engage in any other conversation or tasks.\",\n",
    "    description=\"Handles simple greetings and hellos using the 'say_hello' tool.\", # Crucial for delegation\n",
    "    tools=[say_hello],\n",
    ")\n",
    "print(f\"✅ Agent '{greeting_subagent.name}' created.\")\n"
   ]
  },
  {
   "cell_type": "code",
   "execution_count": null,
   "metadata": {
    "id": "tgT7P1doVRA0"
   },
   "outputs": [],
   "source": [
    "# --- Farewell Agent ---\n",
    "# A new sub-agent to say goodbye. \n",
    "# Like the `greeting_subagent` this one should do nothing other than say goodbye\n",
    "# using the `say_goodbye` tool.\n",
    "# \n",
    "# Note: these comments are a lot like the `instruction` :) \n",
    "farewell_subagent = Agent(\n",
    "    # Can use the same or a different model\n",
    "    model=llm, # Sticking with GPT for this example\n",
    "    name=\"farewell_subagent_v1\",\n",
    "    instruction=\"You are the Farewell Agent. Your ONLY task is to provide a polite goodbye message. \"\n",
    "                \"Use the 'say_goodbye' tool when the user indicates they are leaving or ending the conversation \"\n",
    "                \"(e.g., using words like 'bye', 'goodbye', 'thanks bye', 'see you'). \"\n",
    "                \"Do not perform any other actions.\",\n",
    "    description=\"Handles simple farewells and goodbyes using the 'say_goodbye' tool.\", # Crucial for delegation\n",
    "    tools=[say_goodbye],\n",
    ")\n",
    "print(f\"✅ Agent '{farewell_subagent.name}' created.\")\n"
   ]
  },
  {
   "cell_type": "markdown",
   "metadata": {
    "id": "IFL_TLFPVS5P"
   },
   "source": [
    "---\n",
    "\n",
    "### Define the Root Agent (`cypher_agent_team`) with Sub-Agents\n",
    "\n",
    "Our `cypher_agent_team` is now a root agent with sub-agents. The key changes are:\n",
    "\n",
    "* Adding the `sub_agents` parameter: We pass a list containing the `greeting_agent` and `farewell_agent` instances we just created.  \n",
    "* Updating the `instruction`: We explicitly tell the root agent *about* its sub-agents and *when* it should delegate tasks to them.\n",
    "\n",
    "**Key Concept: Automatic Delegation (Auto Flow)** By providing the `sub_agents` list, ADK enables automatic delegation. When the root agent receives a user query, its LLM considers not only its own instructions and tools but also the `description` of each sub-agent. If the LLM determines that a query aligns better with a sub-agent's described capability (e.g., \"Handles simple greetings\"), it will automatically generate a special internal action to *transfer control* to that sub-agent for that turn. The sub-agent then processes the query using its own model, instructions, and tools.\n",
    "\n",
    "**Best Practice:** Ensure the root agent's instructions clearly guide its delegation decisions. Mention the sub-agents by name and describe the conditions under which delegation should occur."
   ]
  },
  {
   "cell_type": "code",
   "execution_count": null,
   "metadata": {
    "id": "nniWunchVV8_"
   },
   "outputs": [],
   "source": [
    "\n",
    "# --- Friendly Agent team ---\n",
    "# A \"root\" or \"top-level\" or \"coordinator\" agent that will\n",
    "# get interactions going and \"delegate\" to sub-agents for\n",
    "# specialized tasks like saying hello or goodbye.\n",
    "\n",
    "friendly_agent_team = Agent(\n",
    "    name=\"friendly_agent_team_v1\", # versions in the name are convenient for sanity checking\n",
    "    model=llm,\n",
    "    description=\"The main coordinator agent. Delegates greetings/farewells to specialists.\",\n",
    "    instruction=\"\"\"You are the main Agent coordinating a team. Your primary responsibility is to be friendly.\n",
    "\n",
    "                You have specialized sub-agents: \n",
    "                1. 'greeting_agent': Handles simple greetings like 'Hi', 'Hello'. Delegate to it for these. \n",
    "                2. 'farewell_agent': Handles simple farewells like 'Bye', 'See you'. Delegate to it for these. \n",
    "\n",
    "                Analyze the user's query. If it's a greeting, delegate to 'greeting_agent'. If it's a farewell, delegate to 'farewell_agent'. \n",
    "                \n",
    "                For anything else, respond appropriately or state you cannot handle it.\n",
    "                \"\"\",\n",
    "    tools=[], # No tools for the root agent\n",
    "    \n",
    "    # *Key change*: Link the sub-agents here!\n",
    "    sub_agents=[greeting_subagent, farewell_subagent]\n",
    ")\n",
    "\n",
    "\n",
    "print(f\"✅ Root Agent '{friendly_agent_team.name}' created with sub-agents: {[sa.name for sa in friendly_agent_team.sub_agents]}\")\n"
   ]
  },
  {
   "cell_type": "markdown",
   "metadata": {
    "id": "Yg-IjZYVVYXe"
   },
   "source": [
    "---\n",
    "\n",
    "### script - Interact with the Agent Team\n",
    "\n",
    "Now that we've defined our root agent (`cypher_agent_team` - *Note: Ensure this variable name matches the one defined in the previous code block, likely `# @title Define the Root Agent with Sub-Agents`, which might have named it `root_agent`*) with its specialized sub-agents, let's test the delegation mechanism.\n",
    "\n",
    "The following code block will:\n",
    "\n",
    "1.  Define an `async` function `run_team_conversation`.\n",
    "2.  Inside this function, create a *new, dedicated* `InMemorySessionService` and a specific session (`session_001_agent_team`) just for this test run. This isolates the conversation history for testing the team dynamics.\n",
    "3.  Create a `Runner` (`runner_agent_team`) configured to use our `cypher_agent_team` (the root agent) and the dedicated session service.\n",
    "4.  Use our updated `call_agent_async` function to send different types of queries (greeting, farewell) to the `runner_agent_team`. We explicitly pass the runner, user ID, and session ID for this specific test.\n",
    "5.  Immediately execute the `run_team_conversation` function.\n",
    "\n",
    "We expect the following flow:\n",
    "\n",
    "1.  The \"Hello there!\" query goes to `runner_agent_team`.\n",
    "2.  The root agent (`cypher_agent_team`) receives it and, based on its instructions and the `greeting_agent`'s description, delegates the task.\n",
    "3.  `greeting_agent` handles the query, calls its `say_hello` tool, and generates the response.\n",
    "4.  The \"What is Neo4j?\" query is *not* delegated and is handled directly by the root agent using its public knowledge.\n",
    "5.  The \"Thanks, bye!\" query is delegated to the `farewell_agent`, which uses its `say_goodbye` tool.\n",
    "\n"
   ]
  },
  {
   "cell_type": "code",
   "execution_count": null,
   "metadata": {},
   "outputs": [],
   "source": [
    "friendly_team_caller = await make_agent_caller(friendly_agent_team)\n",
    "\n",
    "async def run_team_conversation():\n",
    "    # run the conversation with verbose output to see the action\n",
    "    await friendly_team_caller.call(\"Hello I'm ABK\", True)\n",
    "\n",
    "    await friendly_team_caller.call(\"Thanks, bye!\", True)\n",
    "\n",
    "# Execute the conversation using await\n",
    "await run_team_conversation()\n"
   ]
  },
  {
   "cell_type": "markdown",
   "metadata": {
    "id": "Zgw3Cn2NVcI7"
   },
   "source": [
    "---\n",
    "\n",
    "Look closely at the output logs, especially the `--- Tool: ... called ---` messages. You should observe:\n",
    "\n",
    "*   For \"Hello there!\", the `say_hello` tool was called (indicating `greeting_agent` handled it).\n",
    "*   For \"What is Neo4j?\",  the agent handled it directly without a function call.\n",
    "*   For \"Thanks, bye!\", the `say_goodbye` tool was called (indicating `farewell_agent` handled it).\n",
    "\n",
    "This confirms successful **automatic delegation**! The root agent, guided by its instructions and the `description`s of its `sub_agents`, correctly routed user requests to the appropriate specialist agent within the team.\n",
    "\n",
    "You've now structured your application with multiple collaborating agents. This modular design is fundamental for building more complex and capable agent systems. In the next step, we'll give our agents the ability to remember information across turns using session state."
   ]
  },
  {
   "cell_type": "markdown",
   "metadata": {
    "id": "s7gD2sCy1qWz"
   },
   "source": [
    "## Step 4: Adding Memory and Personalization with Session State\n",
    "\n",
    "So far, our agent team can handle different tasks through delegation, but each interaction starts fresh – the agents have no memory of past conversations or user preferences within a session. To create more sophisticated and context-aware experiences, agents need **memory**. ADK provides this through **Session State**.\n",
    "\n",
    "**What is Session State?**\n",
    "\n",
    "* It's a Python dictionary (`session.state`) tied to a specific user session (identified by `APP_NAME`, `USER_ID`, `SESSION_ID`).  \n",
    "* It persists information *across multiple conversational turns* within that session.  \n",
    "* Agents and Tools can read from and write to this state, allowing them to remember details, adapt behavior, and personalize responses.\n",
    "\n",
    "**How Agents Interact with State:**\n",
    "\n",
    "1. **`ToolContext` (Primary Method):** Tools can accept a `ToolContext` object (automatically provided by ADK if declared as the last argument). This object gives direct access to the session state via `tool_context.state`, allowing tools to read preferences or save results *during* execution.  \n",
    "2. **`output_key` (Auto-Save Agent Response):** An `Agent` can be configured with an `output_key=\"your_key\"`. ADK will then automatically save the agent's final textual response for a turn into `session.state[\"your_key\"]`.\n",
    "\n",
    "**In this step, we will enhance our Cypher team by:**\n",
    "\n",
    "1. Using a **new** `InMemorySessionService` to demonstrate state in isolation.  \n",
    "2. Initializing session state with a default user name.  \n",
    "3. Creating a state-aware version of the say_hello tool (`say_hello_stateful`) which responds with a personalized greeting and sets the user name in the session state.  \n",
    "4. Creating a state-aware version of the say_goodbye tool (`say_goodbye_stateful`) that reads this preference via `ToolContext` and adjusts a personalized goodbye message.  \n",
    "5. Running a conversation to observe how the initial state affects the tool, how manual state changes alter subsequent behavior."
   ]
  },
  {
   "cell_type": "markdown",
   "metadata": {
    "id": "652bNx3H16lJ"
   },
   "source": [
    "---\n",
    "\n",
    "### script - Create State-Aware hello/goodbye Tools (`say_hello_stateful` and `say_goodbye_stateful`)\n",
    "\n",
    "You will create a new version of the hello/goodbye tools. The key feature is accepting `tool_context: ToolContext` \n",
    "which allows them to access `tool_context.state`. \n",
    "\n",
    "They will write to or read from the `user_name` state variable.\n",
    "\n",
    "\n",
    "* **Key Concept: `ToolContext`** This object is the bridge allowing your tool logic to interact with the session's context, including reading and writing state variables. ADK injects it automatically if defined as the last parameter of your tool function.\n",
    "\n",
    "\n",
    "* **Best Practice:** When reading from state, use `dictionary.get('key', default_value)` to handle cases where the key might not exist yet, ensuring your tool doesn't crash."
   ]
  },
  {
   "cell_type": "code",
   "execution_count": null,
   "metadata": {},
   "outputs": [],
   "source": [
    "from google.adk.tools.tool_context import ToolContext\n",
    "\n",
    "def say_hello_stateful(user_name:str, tool_context:ToolContext):\n",
    "    \"\"\"Says hello to the user, recording their name into state.\n",
    "    \n",
    "    Args:\n",
    "        user_name (str): The name of the user.\n",
    "    \"\"\"\n",
    "    # store the user name in state/memory\n",
    "    tool_context.state[\"user_name\"] = user_name\n",
    "    \n",
    "    return graphdb.send_query(\n",
    "        f\"RETURN 'Hello to you, ' + $user_name + '.' AS reply\",\n",
    "    {\n",
    "        \"user_name\": user_name\n",
    "    })\n",
    "    \n",
    "# can't call this tool directly, as it uses `ToolContext` to access state"
   ]
  },
  {
   "cell_type": "code",
   "execution_count": null,
   "metadata": {
    "id": "zK11GeWftFRC"
   },
   "outputs": [],
   "source": [
    "def say_goodbye_stateful(tool_context: ToolContext) -> dict:\n",
    "    \"\"\"Says goodbye to the user, reading their name from state.\"\"\"\n",
    "    # get ths uername from state/memory _or_ use a default value\n",
    "    user_name = tool_context.state.get(\"user_name\", \"stranger\")\n",
    "    print(\"\\ntool_context.state['user_name']:\", user_name)\n",
    "    return graphdb.send_query(\"RETURN 'Goodbye, ' + $user_name + ', nice to chat with you!' AS reply\",\n",
    "    {\n",
    "        \"user_name\": user_name\n",
    "    })\n",
    "\n",
    "\n",
    "print(\"✅ State-aware 'say_hello_stateful' and 'say_goodbye_stateful' tools defined.\")\n"
   ]
  },
  {
   "cell_type": "markdown",
   "metadata": {
    "id": "UuQMolpG2Qkg"
   },
   "source": [
    "---\n",
    "\n",
    "**3\\. Redefine Sub-Agents and Update Root Agent**\n",
    "\n",
    "To ensure this step is self-contained and builds correctly, we first redefine the `greeting_agent` and `farewell_agent` exactly as they were in Step 3\\. Then, we define our new root agent (`cypher_agent_v4_stateful`):\n",
    "\n",
    "* It uses the new `say_hello_stateful` and `say_goodbye_stateful` tools.  \n",
    "* It includes the greeting and farewell sub-agents for delegation.  \n"
   ]
  },
  {
   "cell_type": "code",
   "execution_count": null,
   "metadata": {},
   "outputs": [],
   "source": [
    "# define a stateful greeting agent. the only difference is that this agent will use the stateful say_hello_stateful tool\n",
    "greeting_agent_stateful = Agent(\n",
    "    model=llm,\n",
    "    name=\"greeting_agent_stateful_v1\",\n",
    "    instruction=\"You are the Greeting Agent. Your ONLY task is to provide a friendly greeting using the 'say_hello' tool. Do nothing else.\",\n",
    "    description=\"Handles simple greetings and hellos using the 'say_hello_stateful' tool.\",\n",
    "    tools=[say_hello_stateful],\n",
    ")\n",
    "print(f\"✅ Agent '{greeting_agent_stateful.name}' redefined.\")\n"
   ]
  },
  {
   "cell_type": "code",
   "execution_count": null,
   "metadata": {},
   "outputs": [],
   "source": [
    "\n",
    "farewell_agent_stateful = Agent(\n",
    "    model=llm,\n",
    "    name=\"farewell_agent_stateful_v1\",\n",
    "    instruction=\"You are the Farewell Agent. Your ONLY task is to provide a polite goodbye message using the 'say_goodbye_stateful' tool. Do not perform any other actions.\",\n",
    "    description=\"Handles simple farewells and goodbyes using the 'say_goodbye_stateful' tool.\",\n",
    "    tools=[say_goodbye_stateful],\n",
    ")\n",
    "print(f\"✅ Agent '{farewell_agent_stateful.name}' redefined.\")"
   ]
  },
  {
   "cell_type": "code",
   "execution_count": null,
   "metadata": {
    "id": "ox3-2hwTtFOK"
   },
   "outputs": [],
   "source": [
    "\n",
    "friendly_team_stateful = Agent(\n",
    "    name=\"friendly_team_stateful\", # New version name\n",
    "    model=llm,\n",
    "    description=\"The main coordinator agent. Delegates greetings/farewells to specialists.\",\n",
    "    instruction=\"\"\"You are the main Agent coordinating a team. Your primary responsibility is to be friendly.\n",
    "\n",
    "                You have specialized sub-agents: \n",
    "                1. 'greeting_agent_stateful': Handles simple greetings like 'Hi', 'Hello'. Delegate to it for these. \n",
    "                2. 'farewell_agent_stateful': Handles simple farewells like 'Bye', 'See you'. Delegate to it for these. \n",
    "\n",
    "                Analyze the user's query. If it's a greeting, delegate to 'greeting_agent_stateful'. If it's a farewell, delegate to 'farewell_agent_stateful'. \n",
    "                \n",
    "                For anything else, respond appropriately or state you cannot handle it.\n",
    "                \"\"\",\n",
    "        tools=[], # Still no tools for root\n",
    "        sub_agents=[greeting_agent_stateful, farewell_agent_stateful], # Include sub-agents\n",
    "    )\n",
    "\n",
    "print(f\"✅ Root Agent '{friendly_team_stateful.name}' created using agents with stateful tools.\")\n"
   ]
  },
  {
   "cell_type": "markdown",
   "metadata": {
    "id": "P394DfSb2aOw"
   },
   "source": [
    "---\n",
    "\n",
    "### script - Interact and Test State Flow\n",
    "\n",
    "Now, you can initialize a new `AgentCaller`. This time, you'll provide an initial state.\n",
    "\n",
    "Then you can execute a conversation designed to test the state interactions using the `cypher_team_stateful` root agent.\n",
    "\n",
    "These are the steps you'll take:\n",
    "\n",
    "1. create an AgentCaller instance for the `cypher_team_stateful` agent with an initial state where the `user_name` is set to \"unknown\"\n",
    "2. display the initial state of the session that the AgentCaller will use\n",
    "3. set up a conversation where the user will introduce themselves then say goodbye\n",
    "4. show the final state of the session, which should now have an updated `user_name`"
   ]
  },
  {
   "cell_type": "code",
   "execution_count": null,
   "metadata": {},
   "outputs": [],
   "source": [
    "friendly_team_stateful_caller = await make_agent_caller(friendly_team_stateful)\n",
    "\n",
    "# get the session to see the state\n",
    "session = await friendly_team_stateful_caller.get_session()\n",
    "\n",
    "print(f\"Initial State: {session.state}\")"
   ]
  },
  {
   "cell_type": "markdown",
   "metadata": {},
   "source": [
    "Now, you can define a conversation, run it, then examine the final session state."
   ]
  },
  {
   "cell_type": "code",
   "execution_count": null,
   "metadata": {
    "id": "WYZfRCp0tFLT"
   },
   "outputs": [],
   "source": [
    "async def run_stateful_conversation():\n",
    "    await friendly_team_stateful_caller.call(\"Hello, I'm ABK!\", True)\n",
    "\n",
    "    await friendly_team_stateful_caller.call(\"Thanks, bye!\", True)\n",
    "\n",
    "# Execute the conversation using await in an async context (like Colab/Jupyter)\n",
    "await run_stateful_conversation()\n",
    "\n",
    "session = await friendly_team_stateful_caller.get_session()\n",
    "\n",
    "print(f\"\\nFinal State: {session.state}\")"
   ]
  },
  {
   "cell_type": "markdown",
   "metadata": {
    "id": "mqiG4SAX2l8C"
   },
   "source": [
    "---\n",
    "\n",
    "By reviewing the conversation flow and the final session state printout, you can confirm:\n",
    "\n",
    "*   **State Update:** The `say_hello_stateful` tool successfully updated `user_name` in state.\n",
    "*   **State Read:** The `say_goodbye_stateful` tool correctly read `user_name` from state.\n",
    "*   **Delegation:** The delegation to the `greeting_agent` for \"Hi!\" functioned correctly even after state modifications.\n",
    "*   **Final State:** The final check confirms the user_name persisted as \"ABK\".\n",
    "\n",
    "You've now successfully integrated session state to personalize agent behavior using `ToolContext`, manually manipulated state for testing `InMemorySessionService`, and observed the behavior. \n",
    "\n",
    "This foundational understanding of state management is key as we proceed to implementing a stateful workflow..\n",
    "\n",
    "---"
   ]
  },
  {
   "cell_type": "markdown",
   "metadata": {},
   "source": []
  },
  {
   "cell_type": "markdown",
   "metadata": {},
   "source": [
    "---\n",
    "## For Fun, An Interactive Conversation\n",
    "\n",
    "Now, you can make this interactive to see how it behaves! \n",
    "\n",
    "Run the cell below. It will prompt you to enter your queries directly.\n",
    "\n",
    "Type `exit` to quit the conversation."
   ]
  },
  {
   "cell_type": "code",
   "execution_count": null,
   "metadata": {},
   "outputs": [],
   "source": [
    "async def run_interactive_conversation():\n",
    "    while True:\n",
    "        user_query = input(\"Ask me something (or type 'exit' to quit): \")\n",
    "        if user_query.lower() == 'exit':\n",
    "            break\n",
    "        response = await friendly_team_stateful_caller.call(user_query)\n",
    "        print(f\"Response: {response}\")\n",
    "\n",
    "# Execute the interactive conversation\n",
    "await run_interactive_conversation()"
   ]
  },
  {
   "cell_type": "code",
   "execution_count": null,
   "metadata": {},
   "outputs": [],
   "source": []
  }
 ],
 "metadata": {
  "colab": {
   "provenance": [],
   "toc_visible": true
  },
  "kernelspec": {
   "display_name": "kg-workshop",
   "language": "python",
   "name": "python3"
  },
  "language_info": {
   "codemirror_mode": {
    "name": "ipython",
    "version": 3
   },
   "file_extension": ".py",
   "mimetype": "text/x-python",
   "name": "python",
   "nbconvert_exporter": "python",
   "pygments_lexer": "ipython3",
   "version": "3.12.11"
  }
 },
 "nbformat": 4,
 "nbformat_minor": 4
}
