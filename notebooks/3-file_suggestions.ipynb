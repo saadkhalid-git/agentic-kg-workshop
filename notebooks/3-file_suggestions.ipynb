{
 "cells": [
  {
   "cell_type": "markdown",
   "metadata": {
    "id": "Np0plMPXRvoq"
   },
   "source": [
    "# Lesson 3 - File Suggestions\n",
    "\n",
    "With the user's intent established as a work specification, the next phase of knowledge graph construction\n",
    "is to suggest files to use for import.\n",
    "\n",
    "## Agent\n",
    "\n",
    "- An agent that suggests files to use for import, based on the established user goal.\n",
    "- Input: `approved_user_goal`, a dictionary pairing a kind of graph with a description of the purpose of the graph.\n",
    "- Output: `approved_files`, a list of files that have been approved for import.\n",
    "- Tools: `get_approved_user_goal`, `list_import_files`, `sample_file`, `set_suggested_files`, `approve_suggested_files`\n",
    "\n",
    "## Workflow\n",
    "\n",
    "1. The context is initialized with an `approved_user_goal` (which will get retrieved using a tool)\n",
    "2. The agent analyzes the available files, evaluating them for relevance to the established user goal.\n",
    "3. The agent suggests a list of files to import.\n",
    "4. The user approves the file suggestions.\n",
    "5. The file suggestions are saved in the context state as `approved_files`.\n"
   ]
  },
  {
   "cell_type": "markdown",
   "metadata": {},
   "source": [
    "## Setup\n",
    "\n",
    "The usual import of needed libraries, loading of environment variables, and connection to Neo4j."
   ]
  },
  {
   "cell_type": "code",
   "execution_count": null,
   "metadata": {
    "id": "sbwxKypOSBkN"
   },
   "outputs": [],
   "source": [
    "# Import necessary libraries\n",
    "import os\n",
    "from pathlib import Path\n",
    "\n",
    "from itertools import islice\n",
    "\n",
    "from google.adk.agents import Agent\n",
    "from google.adk.models.lite_llm import LiteLlm # For OpenAI support\n",
    "from google.adk.tools import ToolContext\n",
    "\n",
    "# For type hints\n",
    "from typing import Dict, Any, List\n",
    "\n",
    "# Convenience libraries for working with Neo4j inside of Google ADK\n",
    "from neo4j_for_adk import graphdb, tool_success, tool_error\n",
    "\n",
    "import warnings\n",
    "# Ignore all warnings\n",
    "warnings.filterwarnings(\"ignore\")\n",
    "\n",
    "import logging\n",
    "logging.basicConfig(level=logging.CRITICAL)\n",
    "\n",
    "print(\"Libraries imported.\")"
   ]
  },
  {
   "cell_type": "code",
   "execution_count": null,
   "metadata": {
    "id": "MI_qvZJrSJuR"
   },
   "outputs": [],
   "source": [
    "# --- Define Model Constants for easier use ---\n",
    "MODEL_GPT_4O = \"openai/gpt-4o\"\n",
    "\n",
    "llm = LiteLlm(model=MODEL_GPT_4O)\n",
    "\n",
    "# Test LLM with a direct call\n",
    "print(llm.llm_client.completion(model=llm.model, messages=[{\"role\": \"user\", \"content\": \"Are you ready?\"}], tools=[]))\n",
    "\n",
    "print(\"\\nOpenAI is ready.\")"
   ]
  },
  {
   "cell_type": "code",
   "execution_count": null,
   "metadata": {},
   "outputs": [],
   "source": [
    "# Check connection to Neo4j by sending a query\n",
    "\n",
    "neo4j_is_ready = graphdb.send_query(\"RETURN 'Neo4j is Ready!' as message\")\n",
    "\n",
    "print(neo4j_is_ready)"
   ]
  },
  {
   "cell_type": "code",
   "execution_count": null,
   "metadata": {},
   "outputs": [],
   "source": [
    "from helper import get_neo4j_import_dir\n",
    "\n",
    "print(f\"Neo4j import directory: '{get_neo4j_import_dir()}'\")"
   ]
  },
  {
   "cell_type": "markdown",
   "metadata": {},
   "source": [
    "## Define the File Suggestion Agent"
   ]
  },
  {
   "cell_type": "markdown",
   "metadata": {},
   "source": [
    "### Agent Instructions"
   ]
  },
  {
   "cell_type": "code",
   "execution_count": null,
   "metadata": {},
   "outputs": [],
   "source": [
    "# First, define the instruction to describe what the agent should do\n",
    "file_suggestion_agent_instruction = \"\"\"\n",
    "You are a constructive critic AI reviewing a list of files. Your goal is to suggest relevant files\n",
    "for constructing a knowledge graph.\n",
    "\n",
    "**Task:**\n",
    "Review the file list for relevance to the kind of graph and description specified in the approved user goal. \n",
    "\n",
    "For any file that you're not sure about, use the 'sample_file' tool to get \n",
    "a better understanding of the file contents. \n",
    "\n",
    "Only consider structured data files like CSV or JSON.\n",
    "\n",
    "Prepare for the task:\n",
    "- use the 'get_approved_user_goal' tool to get the approved user goal\n",
    "\n",
    "Think carefully, repeating these steps until finished:\n",
    "1. list available files using the 'list_available_files' tool\n",
    "2. evaluate the relevance of each file, then record the list of suggested files using the 'set_suggested_files' tool\n",
    "3. use the 'get_suggested_files' tool to get the list of suggested files\n",
    "4. ask the user to approve the set of suggested files\n",
    "5. If the user has feedback, go back to step 1 with that feedback in mind\n",
    "6. If approved, use the 'approve_suggested_files' tool to record the approval\n",
    "\"\"\"\n"
   ]
  },
  {
   "cell_type": "markdown",
   "metadata": {},
   "source": [
    "### Tool Definitions"
   ]
  },
  {
   "cell_type": "code",
   "execution_count": null,
   "metadata": {},
   "outputs": [],
   "source": [
    "# import tools defined in previous lesson\n",
    "from tools import get_approved_user_goal"
   ]
  },
  {
   "cell_type": "code",
   "execution_count": null,
   "metadata": {},
   "outputs": [],
   "source": [
    "#  Tool: List Import Files\n",
    "\n",
    "ALL_AVAILABLE_FILES = \"all_available_files\"\n",
    "\n",
    "def list_available_files(tool_context:ToolContext) -> dict:\n",
    "    f\"\"\"Lists files available for knowledge graph construction.\n",
    "    All files are relative to the import directory.\n",
    "\n",
    "    Returns:\n",
    "        dict: A dictionary containing metadata about the content.\n",
    "                Includes a 'status' key ('success' or 'error').\n",
    "                If 'success', includes a {ALL_AVAILABLE_FILES} key with list of file names.\n",
    "                If 'error', includes an 'error_message' key.\n",
    "                The 'error_message' may have instructions about how to handle the error.\n",
    "    \"\"\"\n",
    "    # get the import dir using the helper function\n",
    "    import_dir = Path(get_neo4j_import_dir())\n",
    "\n",
    "    # get a list of relative file names, so files must be rooted at the import dir\n",
    "    file_names = [str(x.relative_to(import_dir)) \n",
    "                 for x in import_dir.rglob(\"*\") \n",
    "                 if x.is_file()]\n",
    "\n",
    "    # save the list to state so we can inspect it later\n",
    "    tool_context.state[ALL_AVAILABLE_FILES] = file_names\n",
    "\n",
    "    return tool_success(ALL_AVAILABLE_FILES, file_names)\n"
   ]
  },
  {
   "cell_type": "code",
   "execution_count": null,
   "metadata": {},
   "outputs": [],
   "source": [
    "# Tool: Sample File\n",
    "def sample_file(file_path: str, tool_context: ToolContext) -> dict:\n",
    "    \"\"\"Samples a file by reading its content as text.\n",
    "    \n",
    "    Treats any file as text and reads up to a maximum of 100 lines.\n",
    "    \n",
    "    Args:\n",
    "      file_path: file to sample, relative to the import directory\n",
    "      \n",
    "    Returns:\n",
    "        dict: A dictionary containing metadata about the content,\n",
    "              along with a sampling of the file.\n",
    "              Includes a 'status' key ('success' or 'error').\n",
    "              If 'success', includes a 'content' key with textual file content.\n",
    "              If 'error', includes an 'error_message' key.\n",
    "    \"\"\"\n",
    "    if Path(file_path).is_absolute():\n",
    "        return tool_error(\"File path must be relative to the import directory. Make sure the file is from the list of available files.\")\n",
    "    \n",
    "    import_dir = Path(get_neo4j_import_dir())\n",
    "\n",
    "    # only works with relative paths\n",
    "    full_path_to_file = import_dir / file_path\n",
    "    \n",
    "    if not full_path_to_file.exists():\n",
    "        return tool_error(f\"File does not exist in import directory: {file_path}\")\n",
    "    \n",
    "    try:\n",
    "        # Treat all files as text\n",
    "        with open(full_path_to_file, 'r', encoding='utf-8') as file:\n",
    "            # Read up to 100 lines\n",
    "            lines = list(islice(file, 100))\n",
    "            content = ''.join(lines)\n",
    "            return tool_success(\"content\", content)\n",
    "    \n",
    "    except Exception as e:\n",
    "        return tool_error(f\"Error reading or processing file {file_path}: {e}\")"
   ]
  },
  {
   "cell_type": "code",
   "execution_count": null,
   "metadata": {},
   "outputs": [],
   "source": [
    "SUGGESTED_FILES = \"suggested_files\"\n",
    "\n",
    "def set_suggested_files(suggest_files:List[str], tool_context:ToolContext) -> Dict[str, Any]:\n",
    "    \"\"\"Set the files to be used for data import.\n",
    "    \"\"\"\n",
    "    tool_context.state[SUGGESTED_FILES] = suggest_files\n",
    "    return tool_success(SUGGESTED_FILES, suggest_files)\n",
    "\n",
    "# Helps encourage the LLM to first set the suggested files\n",
    "def get_suggested_files(tool_context:ToolContext) -> Dict[str, Any]:\n",
    "    \"\"\"Get the files to be used for data import.\n",
    "    \"\"\"\n",
    "    return tool_success(SUGGESTED_FILES, tool_context.state[SUGGESTED_FILES])"
   ]
  },
  {
   "cell_type": "code",
   "execution_count": null,
   "metadata": {},
   "outputs": [],
   "source": [
    "APPROVED_FILES = \"approved_files\"\n",
    "\n",
    "def approve_suggested_files(tool_context:ToolContext) -> Dict[str, Any]:\n",
    "    \"\"\"Approves the {SUGGESTED_FILES} in state for further processing as {APPROVED_FILES}.\n",
    "    \n",
    "    If {SUGGESTED_FILES} is not in state, return an error.\n",
    "    \"\"\"\n",
    "    \n",
    "    if SUGGESTED_FILES not in tool_context.state:\n",
    "        return tool_error(\"Current files have not been set. Take no action other than to inform user.\")\n",
    "\n",
    "    tool_context.state[APPROVED_FILES] = tool_context.state[SUGGESTED_FILES]\n",
    "    return tool_success(APPROVED_FILES, tool_context.state[APPROVED_FILES])"
   ]
  },
  {
   "cell_type": "code",
   "execution_count": null,
   "metadata": {},
   "outputs": [],
   "source": [
    "# List of tools for the file suggestion agent\n",
    "file_suggestion_agent_tools = [get_approved_user_goal, list_available_files, sample_file, set_suggested_files, approve_suggested_files]"
   ]
  },
  {
   "cell_type": "markdown",
   "metadata": {},
   "source": [
    "### Construct the Agent"
   ]
  },
  {
   "cell_type": "code",
   "execution_count": null,
   "metadata": {},
   "outputs": [],
   "source": [
    "# Finally, construct the agent\n",
    "\n",
    "file_suggestion_agent = Agent(\n",
    "    name=\"file_suggestion_agent_v1\",\n",
    "    model=llm, # defined earlier in a variable\n",
    "    description=\"Helps the user select files to import.\",\n",
    "    instruction=file_suggestion_agent_instruction,\n",
    "    tools=file_suggestion_agent_tools,\n",
    ")\n",
    "\n",
    "print(f\"Agent '{file_suggestion_agent.name}' created.\")"
   ]
  },
  {
   "cell_type": "markdown",
   "metadata": {
    "id": "5zKGVwRkSduA"
   },
   "source": [
    "---\n",
    "\n",
    "## Interact with the Agent\n",
    "\n"
   ]
  },
  {
   "cell_type": "code",
   "execution_count": null,
   "metadata": {
    "id": "yZJr8lbkSebH"
   },
   "outputs": [],
   "source": [
    "# Define an Agent Caller Utility\n",
    "# This will provide a simple \"call\" interface and access to the session\n",
    "\n",
    "from helper import make_agent_caller\n",
    "\n",
    "file_suggestion_caller = await make_agent_caller(file_suggestion_agent, {\n",
    "    # Must provide an initial state for memory\n",
    "    \"approved_user_goal\": {\n",
    "        \"kind_of_graph\": \"supply chain analysis\",\n",
    "        \"description\": \"A multi-level bill of materials for manufactured products, useful for root cause analysis..\"\n",
    "    }   \n",
    "})\n"
   ]
  },
  {
   "cell_type": "code",
   "execution_count": null,
   "metadata": {
    "id": "mEd2QhHyUKY8"
   },
   "outputs": [],
   "source": [
    "# Run the Initial Conversation\n",
    "await file_suggestion_caller.call(\"What files can we use for import?\", True)\n",
    "\n",
    "session_end = await file_suggestion_caller.get_session()\n",
    "\n",
    "print(\"\\n---\\n\")\n",
    "\n",
    "print(\"Suggested files: \", session_end.state[SUGGESTED_FILES])\n"
   ]
  },
  {
   "cell_type": "code",
   "execution_count": null,
   "metadata": {},
   "outputs": [],
   "source": [
    "# Agree with the file suggestions\n",
    "await file_suggestion_caller.call(\"Yes, let's do it!\", True)\n",
    "\n",
    "session_end = await file_suggestion_caller.get_session()\n",
    "\n",
    "print(\"\\n---\\n\")\n",
    "\n",
    "print(\"Approved files: \", session_end.state[APPROVED_FILES])"
   ]
  },
  {
   "cell_type": "markdown",
   "metadata": {
    "id": "xbUzAGvsmB2a"
   },
   "source": [
    "---\n",
    "\n",
    "Congratulations\\! You've created a basic human-in-the-loop interaction, with a structured result.\n"
   ]
  },
  {
   "cell_type": "markdown",
   "metadata": {},
   "source": [
    "---\n",
    "## Bonus, An Interactive Conversation\n",
    "\n",
    "Now, let's make this interactive so you can ask your own questions! Run the cell below. It will prompt you to enter your queries directly."
   ]
  },
  {
   "cell_type": "code",
   "execution_count": null,
   "metadata": {},
   "outputs": [],
   "source": [
    "async def run_interactive_conversation():\n",
    "    while True:\n",
    "        user_query = input(\"Ask me something (or type 'exit' to quit): \")\n",
    "        if user_query.lower() == 'exit':\n",
    "            break\n",
    "        response = await file_suggestion_caller.call(user_query, True)\n",
    "        print(f\"Response: {response}\")\n",
    "\n",
    "# Execute the interactive conversation\n",
    "await run_interactive_conversation()"
   ]
  },
  {
   "cell_type": "code",
   "execution_count": null,
   "metadata": {},
   "outputs": [],
   "source": []
  }
 ],
 "metadata": {
  "colab": {
   "provenance": [],
   "toc_visible": true
  },
  "kernelspec": {
   "display_name": ".venv",
   "language": "python",
   "name": "python3"
  },
  "language_info": {
   "codemirror_mode": {
    "name": "ipython",
    "version": 3
   },
   "file_extension": ".py",
   "mimetype": "text/x-python",
   "name": "python",
   "nbconvert_exporter": "python",
   "pygments_lexer": "ipython3",
   "version": "3.12.9"
  }
 },
 "nbformat": 4,
 "nbformat_minor": 4
}
