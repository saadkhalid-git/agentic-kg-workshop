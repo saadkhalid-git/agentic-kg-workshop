{
 "cells": [
  {
   "cell_type": "code",
   "execution_count": null,
   "id": "9df40aba",
   "metadata": {},
   "outputs": [],
   "source": [
    "from neo4j_for_adk import graphdb\n",
    "\n",
    "from tools import drop_neo4j_indexes, clear_neo4j_data"
   ]
  },
  {
   "cell_type": "code",
   "execution_count": null,
   "id": "51885fa8",
   "metadata": {},
   "outputs": [],
   "source": [
    "neo4j_is_ready = graphdb.send_query(\"RETURN 'Neo4j is Ready!' as message\")\n",
    "\n",
    "print(neo4j_is_ready)"
   ]
  },
  {
   "cell_type": "code",
   "execution_count": null,
   "id": "1a26cda5",
   "metadata": {},
   "outputs": [],
   "source": [
    "drop_neo4j_indexes()"
   ]
  },
  {
   "cell_type": "code",
   "execution_count": null,
   "id": "e5396404",
   "metadata": {},
   "outputs": [],
   "source": [
    "clear_neo4j_data()"
   ]
  },
  {
   "cell_type": "code",
   "execution_count": null,
   "id": "f2bbc0ad",
   "metadata": {},
   "outputs": [],
   "source": [
    "neo4j_stats = graphdb.send_query(\"MATCH (n) RETURN count(n) as node_count\")\n",
    "\n",
    "print(f\"Number of nodes: {neo4j_stats['query_result'][0]['node_count']}\")"
   ]
  }
 ],
 "metadata": {
  "kernelspec": {
   "display_name": "kg-workshop",
   "language": "python",
   "name": "python3"
  },
  "language_info": {
   "codemirror_mode": {
    "name": "ipython",
    "version": 3
   },
   "file_extension": ".py",
   "mimetype": "text/x-python",
   "name": "python",
   "nbconvert_exporter": "python",
   "pygments_lexer": "ipython3",
   "version": "3.12.11"
  }
 },
 "nbformat": 4,
 "nbformat_minor": 5
}
